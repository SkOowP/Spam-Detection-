{
 "cells": [
  {
   "cell_type": "code",
   "execution_count": 189,
   "id": "c3b446c2",
   "metadata": {},
   "outputs": [],
   "source": [
    "from keras.layers import SimpleRNN, Embedding, Dense, LSTM\n",
    "from keras.models import Sequential\n",
    "from keras.preprocessing.text import Tokenizer\n",
    "from keras.preprocessing.sequence import pad_sequences\n",
    "\n",
    "import pandas as pd\n",
    "import numpy as np\n",
    "import matplotlib.pyplot as plt\n",
    "%matplotlib inline\n",
    "import seaborn as sns; sns.set()"
   ]
  },
  {
   "cell_type": "code",
   "execution_count": 190,
   "id": "0d2df959",
   "metadata": {},
   "outputs": [],
   "source": [
    "df = pd.read_csv('spam.csv', encoding = \"ISO-8859-1\")"
   ]
  },
  {
   "cell_type": "code",
   "execution_count": 191,
   "id": "6154c877",
   "metadata": {},
   "outputs": [
    {
     "data": {
      "text/html": [
       "<div>\n",
       "<style scoped>\n",
       "    .dataframe tbody tr th:only-of-type {\n",
       "        vertical-align: middle;\n",
       "    }\n",
       "\n",
       "    .dataframe tbody tr th {\n",
       "        vertical-align: top;\n",
       "    }\n",
       "\n",
       "    .dataframe thead th {\n",
       "        text-align: right;\n",
       "    }\n",
       "</style>\n",
       "<table border=\"1\" class=\"dataframe\">\n",
       "  <thead>\n",
       "    <tr style=\"text-align: right;\">\n",
       "      <th></th>\n",
       "      <th>Message</th>\n",
       "      <th>Category</th>\n",
       "    </tr>\n",
       "  </thead>\n",
       "  <tbody>\n",
       "    <tr>\n",
       "      <th>0</th>\n",
       "      <td>Go until jurong point, crazy.. Available only ...</td>\n",
       "      <td>ham</td>\n",
       "    </tr>\n",
       "    <tr>\n",
       "      <th>1</th>\n",
       "      <td>Ok lar... Joking wif u oni...</td>\n",
       "      <td>ham</td>\n",
       "    </tr>\n",
       "    <tr>\n",
       "      <th>2</th>\n",
       "      <td>Free entry in 2 a wkly comp to win FA Cup fina...</td>\n",
       "      <td>spam</td>\n",
       "    </tr>\n",
       "    <tr>\n",
       "      <th>3</th>\n",
       "      <td>U dun say so early hor... U c already then say...</td>\n",
       "      <td>ham</td>\n",
       "    </tr>\n",
       "    <tr>\n",
       "      <th>4</th>\n",
       "      <td>Nah I don't think he goes to usf, he lives aro...</td>\n",
       "      <td>ham</td>\n",
       "    </tr>\n",
       "  </tbody>\n",
       "</table>\n",
       "</div>"
      ],
      "text/plain": [
       "                                             Message Category\n",
       "0  Go until jurong point, crazy.. Available only ...      ham\n",
       "1                      Ok lar... Joking wif u oni...      ham\n",
       "2  Free entry in 2 a wkly comp to win FA Cup fina...     spam\n",
       "3  U dun say so early hor... U c already then say...      ham\n",
       "4  Nah I don't think he goes to usf, he lives aro...      ham"
      ]
     },
     "execution_count": 191,
     "metadata": {},
     "output_type": "execute_result"
    }
   ],
   "source": [
    "df = df[['v2', 'v1']]\n",
    "df.rename(columns = {'v2': 'Message', 'v1': 'Category'}, inplace = True)\n",
    "df.head()"
   ]
  },
  {
   "cell_type": "code",
   "execution_count": 192,
   "id": "8e77f967",
   "metadata": {
    "scrolled": true
   },
   "outputs": [
    {
     "name": "stdout",
     "output_type": "stream",
     "text": [
      "number of texts : 5572\n",
      "number of labels:  5572\n"
     ]
    }
   ],
   "source": [
    "texts = []\n",
    "labels = []\n",
    "for i, label in enumerate(df['Category']):\n",
    "    texts.append(df['Message'][i])\n",
    "    if label == 'ham':\n",
    "        labels.append(0)\n",
    "    else:\n",
    "        labels.append(1)\n",
    "\n",
    "texts = np.asarray(texts)\n",
    "labels = np.asarray(labels)\n",
    "\n",
    "\n",
    "print(\"number of texts :\" , len(texts))\n",
    "print(\"number of labels: \", len(labels))"
   ]
  },
  {
   "cell_type": "code",
   "execution_count": 193,
   "id": "211c1df7",
   "metadata": {},
   "outputs": [
    {
     "name": "stdout",
     "output_type": "stream",
     "text": [
      "True\n"
     ]
    }
   ],
   "source": [
    "max_features = 10000\n",
    "maxlen = 500\n",
    "\n",
    "training_samples = int(5572 * .8)\n",
    "validation_samples = int(5572 - training_samples)\n",
    "print(len(texts) == (training_samples + validation_samples))\n",
    "\n",
    "tokenizer = Tokenizer()\n",
    "tokenizer.fit_on_texts(texts)\n",
    "sequences = tokenizer.texts_to_sequences(texts)\n",
    "\n",
    "word_index = tokenizer.word_index\n",
    "\n",
    "data = pad_sequences(sequences, maxlen=maxlen)\n",
    "\n",
    "np.random.seed(42)\n",
    "indices = np.arange(data.shape[0])\n",
    "np.random.shuffle(indices)\n",
    "data = data[indices]\n",
    "labels = labels[indices]\n",
    "\n",
    "\n",
    "texts_train = data[:training_samples]\n",
    "y_train = labels[:training_samples]\n",
    "texts_test = data[training_samples:]\n",
    "y_test = labels[training_samples:]"
   ]
  },
  {
   "cell_type": "code",
   "execution_count": 194,
   "id": "5f6b83c7",
   "metadata": {
    "scrolled": true
   },
   "outputs": [
    {
     "name": "stdout",
     "output_type": "stream",
     "text": [
      "Epoch 1/10\n",
      "60/60 [==============================] - 14s 177ms/step - loss: 0.3091 - acc: 0.8985 - val_loss: 0.1114 - val_acc: 0.9731\n",
      "Epoch 2/10\n",
      "60/60 [==============================] - 9s 158ms/step - loss: 0.0894 - acc: 0.9762 - val_loss: 0.0661 - val_acc: 0.9832\n",
      "Epoch 3/10\n",
      "60/60 [==============================] - 10s 162ms/step - loss: 0.0817 - acc: 0.9719 - val_loss: 0.0503 - val_acc: 0.9865\n",
      "Epoch 4/10\n",
      "60/60 [==============================] - 9s 155ms/step - loss: 0.0793 - acc: 0.9708 - val_loss: 0.5174 - val_acc: 0.7444\n",
      "Epoch 5/10\n",
      "60/60 [==============================] - 11s 176ms/step - loss: 0.0813 - acc: 0.9691 - val_loss: 0.0576 - val_acc: 0.9843\n",
      "Epoch 6/10\n",
      "60/60 [==============================] - 9s 156ms/step - loss: 0.0367 - acc: 0.9868 - val_loss: 0.1089 - val_acc: 0.9675\n",
      "Epoch 7/10\n",
      "60/60 [==============================] - 9s 151ms/step - loss: 0.0382 - acc: 0.9863 - val_loss: 0.0764 - val_acc: 0.9776\n",
      "Epoch 8/10\n",
      "60/60 [==============================] - 9s 156ms/step - loss: 0.0156 - acc: 0.9961 - val_loss: 0.1383 - val_acc: 0.9451\n",
      "Epoch 9/10\n",
      "60/60 [==============================] - 9s 154ms/step - loss: 0.0201 - acc: 0.9938 - val_loss: 0.0593 - val_acc: 0.9832\n",
      "Epoch 10/10\n",
      "60/60 [==============================] - 8s 132ms/step - loss: 0.0077 - acc: 0.9975 - val_loss: 0.0604 - val_acc: 0.9843\n"
     ]
    }
   ],
   "source": [
    "model = Sequential()\n",
    "model.add(Embedding(max_features, 32))\n",
    "model.add(SimpleRNN(32))\n",
    "model.add(Dense(1, activation='sigmoid'))\n",
    "\n",
    "model.compile(optimizer='rmsprop', loss='binary_crossentropy', metrics=['acc'])\n",
    "history_rnn = model.fit(texts_train, y_train, epochs=10, batch_size=60, validation_split=0.2)"
   ]
  },
  {
   "cell_type": "code",
   "execution_count": 195,
   "id": "0c4b92fd",
   "metadata": {},
   "outputs": [
    {
     "name": "stdout",
     "output_type": "stream",
     "text": [
      "Epoch 1/10\n",
      "60/60 [==============================] - 20s 270ms/step - loss: 0.3077 - acc: 0.8822 - val_loss: 0.1520 - val_acc: 0.9339\n",
      "Epoch 2/10\n",
      "60/60 [==============================] - 17s 289ms/step - loss: 0.1122 - acc: 0.9767 - val_loss: 0.0723 - val_acc: 0.9809\n",
      "Epoch 3/10\n",
      "60/60 [==============================] - 18s 297ms/step - loss: 0.0592 - acc: 0.9868 - val_loss: 0.0450 - val_acc: 0.9922\n",
      "Epoch 4/10\n",
      "60/60 [==============================] - 17s 281ms/step - loss: 0.0355 - acc: 0.9930 - val_loss: 0.0331 - val_acc: 0.9922\n",
      "Epoch 5/10\n",
      "60/60 [==============================] - 18s 299ms/step - loss: 0.0230 - acc: 0.9947 - val_loss: 0.0421 - val_acc: 0.9877\n",
      "Epoch 6/10\n",
      "60/60 [==============================] - 18s 294ms/step - loss: 0.0158 - acc: 0.9952 - val_loss: 0.0374 - val_acc: 0.9888\n",
      "Epoch 7/10\n",
      "60/60 [==============================] - 17s 283ms/step - loss: 0.0107 - acc: 0.9966 - val_loss: 0.0439 - val_acc: 0.9865\n",
      "Epoch 8/10\n",
      "60/60 [==============================] - 17s 288ms/step - loss: 0.0070 - acc: 0.9983 - val_loss: 0.0492 - val_acc: 0.9888\n",
      "Epoch 9/10\n",
      "60/60 [==============================] - 18s 297ms/step - loss: 0.0965 - acc: 0.9770 - val_loss: 0.0547 - val_acc: 0.9865\n",
      "Epoch 10/10\n",
      "60/60 [==============================] - 18s 295ms/step - loss: 0.0542 - acc: 0.9801 - val_loss: 0.0780 - val_acc: 0.9865\n"
     ]
    }
   ],
   "source": [
    "model = Sequential()\n",
    "model.add(Embedding(max_features, 32))\n",
    "model.add(LSTM(32))\n",
    "model.add(Dense(1, activation='sigmoid'))\n",
    "model.compile(optimizer='rmsprop', loss='binary_crossentropy', metrics=['acc'])\n",
    "history_ltsm = model.fit(texts_train, y_train, epochs=10, batch_size=60, validation_split=0.2)"
   ]
  },
  {
   "cell_type": "code",
   "execution_count": null,
   "id": "16637496",
   "metadata": {},
   "outputs": [],
   "source": []
  }
 ],
 "metadata": {
  "kernelspec": {
   "display_name": "Python 3 (ipykernel)",
   "language": "python",
   "name": "python3"
  },
  "language_info": {
   "codemirror_mode": {
    "name": "ipython",
    "version": 3
   },
   "file_extension": ".py",
   "mimetype": "text/x-python",
   "name": "python",
   "nbconvert_exporter": "python",
   "pygments_lexer": "ipython3",
   "version": "3.9.4"
  }
 },
 "nbformat": 4,
 "nbformat_minor": 5
}
